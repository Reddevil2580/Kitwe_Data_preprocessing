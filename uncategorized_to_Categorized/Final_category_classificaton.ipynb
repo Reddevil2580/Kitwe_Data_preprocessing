{
  "nbformat": 4,
  "nbformat_minor": 0,
  "metadata": {
    "colab": {
      "provenance": []
    },
    "kernelspec": {
      "name": "python3",
      "display_name": "Python 3"
    },
    "language_info": {
      "name": "python"
    }
  },
  "cells": [
    {
      "cell_type": "code",
      "execution_count": null,
      "metadata": {
        "id": "lbNYyms7t4MI"
      },
      "outputs": [],
      "source": [
        "import pandas as pd\n",
        "from sklearn.feature_extraction.text import TfidfVectorizer\n",
        "from sklearn.neighbors import KNeighborsClassifier\n",
        "from sklearn.model_selection import train_test_split\n",
        "\n",
        "# Load the dataset\n",
        "file_path_new = '/path/to/your/updated_single_category.csv'\n",
        "df_updated = pd.read_csv(file_path_new)\n",
        "\n",
        "# Prepare the data: separate the categorized rows (training data) and uncategorized rows (to predict)\n",
        "categorized_df = df_updated[df_updated['Single_Category'] != 'uncategorized']\n",
        "uncategorized_df = df_updated[df_updated['Single_Category'] == 'uncategorized']\n",
        "\n",
        "# Using 'Description' as the feature and 'Single_Category' as the label for training\n",
        "X_train = categorized_df['Description']\n",
        "y_train = categorized_df['Single_Category']\n",
        "X_test = uncategorized_df['Description']\n",
        "\n",
        "# Convert text data to TF-IDF feature vectors\n",
        "vectorizer = TfidfVectorizer(max_features=5000)  # Limit to 5000 features for efficiency\n",
        "X_train_tfidf = vectorizer.fit_transform(X_train)\n",
        "X_test_tfidf = vectorizer.transform(X_test)\n",
        "\n",
        "# Train a K-Nearest Neighbors (KNN) classifier\n",
        "knn = KNeighborsClassifier(n_neighbors=5)\n",
        "knn.fit(X_train_tfidf, y_train)\n",
        "\n",
        "# Predict the categories for uncategorized rows\n",
        "y_pred = knn.predict(X_test_tfidf)\n",
        "\n",
        "# Assign the predicted categories back to the uncategorized rows\n",
        "df_updated.loc[df_updated['Single_Category'] == 'uncategorized', 'Single_Category'] = y_pred\n",
        "\n",
        "# Save the fully updated dataset with new categories assigned\n",
        "final_output_knn_path = '/path/to/your/final_updated_with_categories_knn.csv'\n",
        "df_updated.to_csv(final_output_knn_path, index=False)\n",
        "\n",
        "# Check how many rows are still labeled as 'uncategorized' after the prediction\n",
        "remaining_uncategorized_final_knn = df_updated[df_updated['Single_Category'] == 'uncategorized']\n",
        "print(f'Remaining uncategorized rows: {remaining_uncategorized_final_knn.shape[0]}')\n"
      ]
    }
  ]
}