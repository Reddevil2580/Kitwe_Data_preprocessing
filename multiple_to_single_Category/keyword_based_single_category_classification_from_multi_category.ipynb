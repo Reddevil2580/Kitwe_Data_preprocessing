{
  "nbformat": 4,
  "nbformat_minor": 0,
  "metadata": {
    "colab": {
      "provenance": []
    },
    "kernelspec": {
      "name": "python3",
      "display_name": "Python 3"
    },
    "language_info": {
      "name": "python"
    }
  },
  "cells": [
    {
      "cell_type": "code",
      "execution_count": 1,
      "metadata": {
        "id": "mp-lOPsmk1yl"
      },
      "outputs": [],
      "source": [
        "import pandas as pd"
      ]
    },
    {
      "cell_type": "code",
      "source": [
        "file_path = 'multi_category.csv'\n",
        "data = pd.read_csv(file_path)"
      ],
      "metadata": {
        "id": "jixZSOllk_eg"
      },
      "execution_count": 13,
      "outputs": []
    },
    {
      "cell_type": "code",
      "source": [
        "# 'Description' column is treated as strings\n",
        "data['Description'] = data['Description'].astype(str)"
      ],
      "metadata": {
        "id": "2aeUYk1FlDnA"
      },
      "execution_count": 8,
      "outputs": []
    },
    {
      "cell_type": "code",
      "source": [
        "# Define keywords for each category\n",
        "categories_keywords = {\n",
        "    'sports': ['football', 'soccer', 'basketball', 'tennis', 'cricket', 'olympics', 'athlete', 'sports'],\n",
        "    'politics': ['government', 'election', 'politician', 'policy', 'parliament', 'minister', 'president', 'vote'],\n",
        "    'education': ['school', 'university', 'education', 'college', 'students', 'learning', 'teacher', 'scholarship'],\n",
        "    'health and wellness': ['health', 'hospital', 'doctor', 'wellness', 'mental health', 'fitness', 'medicine', 'disease'],\n",
        "    'development': ['development', 'infrastructure', 'construction', 'road', 'bridge', 'building', 'urbanization'],\n",
        "    'narcotics': ['narcotics', 'drug', 'cocaine', 'heroin', 'meth', 'drug trafficking', 'illegal drugs'],\n",
        "    'fashion': ['fashion', 'clothing', 'designer', 'runway', 'model', 'style', 'apparel', 'trends'],\n",
        "    'career': ['job', 'career', 'employment', 'opportunity', 'work', 'recruitment', 'hiring', 'position'],\n",
        "    'local news': ['local', 'community', 'city', 'town', 'village', 'municipality', 'neighborhood', 'region'],\n",
        "    'economy news': ['economy', 'economic', 'finance', 'market', 'stocks', 'currency', 'inflation', 'gdp'],\n",
        "    'business news': ['business', 'company', 'corporation', 'entrepreneur', 'startup', 'industry', 'investment', 'profit']\n",
        "}\n"
      ],
      "metadata": {
        "id": "aVUvwSrDlFte"
      },
      "execution_count": 9,
      "outputs": []
    },
    {
      "cell_type": "code",
      "source": [
        "# Function to assign a single category based on keyword repetition\n",
        "def prioritize_category(description):\n",
        "    keyword_count = {}\n",
        "    for category, keywords in categories_keywords.items():\n",
        "        count = sum(description.lower().count(keyword) for keyword in keywords)\n",
        "        if count > 0:\n",
        "            keyword_count[category] = count\n",
        "    # Return the category with the highest keyword repetition\n",
        "    return max(keyword_count, key=keyword_count.get) if keyword_count else 'uncategorized'\n",
        "\n",
        "# Apply the function to assign a single category based on keyword repetition\n",
        "data['Single_Category'] = data['Description'].apply(prioritize_category)\n"
      ],
      "metadata": {
        "id": "GjN-NQfdlHzj"
      },
      "execution_count": 14,
      "outputs": []
    },
    {
      "cell_type": "code",
      "source": [
        "# Save the updated dataset with the revised categories\n",
        "output_file_path = 'single_category.csv'\n",
        "data.to_csv(output_file_path, index=False)\n"
      ],
      "metadata": {
        "id": "i1nkok_glLSG"
      },
      "execution_count": 15,
      "outputs": []
    },
    {
      "cell_type": "code",
      "source": [],
      "metadata": {
        "id": "v3ULguMJlSNs"
      },
      "execution_count": 12,
      "outputs": []
    },
    {
      "cell_type": "code",
      "source": [],
      "metadata": {
        "id": "bWIGWueK7lDA"
      },
      "execution_count": null,
      "outputs": []
    }
  ]
}